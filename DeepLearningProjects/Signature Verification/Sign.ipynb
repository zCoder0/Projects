{
  "nbformat": 4,
  "nbformat_minor": 0,
  "metadata": {
    "colab": {
      "provenance": [],
      "gpuType": "T4"
    },
    "kernelspec": {
      "name": "python3",
      "display_name": "Python 3"
    },
    "language_info": {
      "name": "python"
    },
    "accelerator": "GPU"
  },
  "cells": [
    {
      "cell_type": "code",
      "execution_count": null,
      "metadata": {
        "id": "GTXk1nFGmJy9"
      },
      "outputs": [],
      "source": [
        "import numpy as np\n",
        "import matplotlib.pyplot as plt\n",
        "from google.colab import drive\n",
        "import tensorflow as tf\n",
        "\n",
        "from tensorflow.keras.preprocessing import image\n",
        "\n",
        "from tensorflow.keras.preprocessing.image import ImageDataGenerator\n",
        "\n",
        "from tensorflow.keras.layers import Dense , Conv2D , MaxPooling2D , Flatten\n",
        "from tensorflow.keras.models import Sequential\n"
      ]
    },
    {
      "cell_type": "code",
      "source": [],
      "metadata": {
        "id": "9qHpU2VQrT2a"
      },
      "execution_count": null,
      "outputs": []
    },
    {
      "cell_type": "code",
      "source": [
        "from google.colab import drive\n",
        "drive.mount('/content/drive')"
      ],
      "metadata": {
        "colab": {
          "base_uri": "https://localhost:8080/"
        },
        "id": "mGugTHT-nEWC",
        "outputId": "ad924f31-8210-48dd-ad70-44f894855b7d"
      },
      "execution_count": null,
      "outputs": [
        {
          "output_type": "stream",
          "name": "stdout",
          "text": [
            "Mounted at /content/drive\n"
          ]
        }
      ]
    },
    {
      "cell_type": "code",
      "source": [],
      "metadata": {
        "id": "FS6OazcMnLeE"
      },
      "execution_count": null,
      "outputs": []
    },
    {
      "cell_type": "code",
      "source": [
        "train = ImageDataGenerator(rescale=1/255)\n",
        "val = ImageDataGenerator(rescale=1/255)"
      ],
      "metadata": {
        "id": "Vs7j9qCMmsD2"
      },
      "execution_count": null,
      "outputs": []
    },
    {
      "cell_type": "code",
      "source": [
        "path='/content/drive/My Drive/sign_data/Train'\n",
        "train_ds = train.flow_from_directory(\n",
        "    path ,\n",
        "    target_size=(64,64),\n",
        "    batch_size=3,\n",
        "    class_mode='binary'\n",
        ")\n",
        "\n",
        "path='/content/drive/My Drive/sign_data/Test'\n",
        "val_ds = train.flow_from_directory(\n",
        "    path ,\n",
        "    target_size=(64,64),\n",
        "    batch_size=3,\n",
        "    class_mode='binary'\n",
        ")"
      ],
      "metadata": {
        "colab": {
          "base_uri": "https://localhost:8080/"
        },
        "id": "0YNos4tRmsJ4",
        "outputId": "15a62911-5fa4-41b5-f6e3-12360cdd9a67"
      },
      "execution_count": null,
      "outputs": [
        {
          "output_type": "stream",
          "name": "stdout",
          "text": [
            "Found 1659 images belonging to 2 classes.\n",
            "Found 500 images belonging to 2 classes.\n"
          ]
        }
      ]
    },
    {
      "cell_type": "code",
      "source": [
        "train_ds.class_indices"
      ],
      "metadata": {
        "colab": {
          "base_uri": "https://localhost:8080/"
        },
        "id": "CWY8df51q4ho",
        "outputId": "b7ed3778-684c-4d3f-989f-80f3b2e6629c"
      },
      "execution_count": null,
      "outputs": [
        {
          "output_type": "execute_result",
          "data": {
            "text/plain": [
              "{'Fake': 0, 'Real': 1}"
            ]
          },
          "metadata": {},
          "execution_count": 5
        }
      ]
    },
    {
      "cell_type": "code",
      "source": [
        "train_ds.classes"
      ],
      "metadata": {
        "colab": {
          "base_uri": "https://localhost:8080/"
        },
        "id": "4XLaMbflq8zX",
        "outputId": "ff193f74-8165-422d-8b48-5d83d5dea6b9"
      },
      "execution_count": null,
      "outputs": [
        {
          "output_type": "execute_result",
          "data": {
            "text/plain": [
              "array([0, 0, 0, ..., 1, 1, 1], dtype=int32)"
            ]
          },
          "metadata": {},
          "execution_count": 6
        }
      ]
    },
    {
      "cell_type": "code",
      "source": [
        "model = tf.keras.models.Sequential(\n",
        "    [\n",
        "        tf.keras.layers.Conv2D(16 , (3,3) , activation='relu' , input_shape=(64,64,3)),\n",
        "        tf.keras.layers.MaxPooling2D(2),\n",
        "\n",
        "        tf.keras.layers.Conv2D(32 , (3,3) , activation='relu' ),\n",
        "        tf.keras.layers.MaxPooling2D(2),\n",
        "\n",
        "        tf.keras.layers.Conv2D(64, (3,3) , activation='relu' ),\n",
        "        tf.keras.layers.MaxPooling2D(2),\n",
        "\n",
        "        tf.keras.layers.Flatten(),\n",
        "        tf.keras.layers.Dense(500 , activation='relu'),\n",
        "        tf.keras.layers.Dense(250 , activation='relu'),\n",
        "        tf.keras.layers.Dense(1 , activation='sigmoid'),\n",
        "    ]\n",
        ")"
      ],
      "metadata": {
        "id": "XvYGGQAEmsQU"
      },
      "execution_count": null,
      "outputs": []
    },
    {
      "cell_type": "code",
      "source": [
        "model.summary()"
      ],
      "metadata": {
        "colab": {
          "base_uri": "https://localhost:8080/"
        },
        "id": "aFm2Cvy-rA5m",
        "outputId": "4130296d-1c51-480e-cc5f-bdb8bb1bd669"
      },
      "execution_count": null,
      "outputs": [
        {
          "output_type": "stream",
          "name": "stdout",
          "text": [
            "Model: \"sequential\"\n",
            "_________________________________________________________________\n",
            " Layer (type)                Output Shape              Param #   \n",
            "=================================================================\n",
            " conv2d (Conv2D)             (None, 62, 62, 16)        448       \n",
            "                                                                 \n",
            " max_pooling2d (MaxPooling2  (None, 31, 31, 16)        0         \n",
            " D)                                                              \n",
            "                                                                 \n",
            " conv2d_1 (Conv2D)           (None, 29, 29, 32)        4640      \n",
            "                                                                 \n",
            " max_pooling2d_1 (MaxPoolin  (None, 14, 14, 32)        0         \n",
            " g2D)                                                            \n",
            "                                                                 \n",
            " conv2d_2 (Conv2D)           (None, 12, 12, 64)        18496     \n",
            "                                                                 \n",
            " max_pooling2d_2 (MaxPoolin  (None, 6, 6, 64)          0         \n",
            " g2D)                                                            \n",
            "                                                                 \n",
            " flatten (Flatten)           (None, 2304)              0         \n",
            "                                                                 \n",
            " dense (Dense)               (None, 500)               1152500   \n",
            "                                                                 \n",
            " dense_1 (Dense)             (None, 250)               125250    \n",
            "                                                                 \n",
            " dense_2 (Dense)             (None, 1)                 251       \n",
            "                                                                 \n",
            "=================================================================\n",
            "Total params: 1301585 (4.97 MB)\n",
            "Trainable params: 1301585 (4.97 MB)\n",
            "Non-trainable params: 0 (0.00 Byte)\n",
            "_________________________________________________________________\n"
          ]
        }
      ]
    },
    {
      "cell_type": "code",
      "source": [
        "model.compile(loss='binary_crossentropy' , metrics=['acc'],optimizer='adam')"
      ],
      "metadata": {
        "id": "8nOMW1YCrDVq"
      },
      "execution_count": null,
      "outputs": []
    },
    {
      "cell_type": "code",
      "source": [
        "model.fit(train_ds  , batch_size=32 ,validation_data=val_ds,epochs=10 )"
      ],
      "metadata": {
        "colab": {
          "base_uri": "https://localhost:8080/"
        },
        "id": "8vuBQKphrL16",
        "outputId": "71ca8ce2-5c96-423a-b8ae-8f06cc89d3eb"
      },
      "execution_count": null,
      "outputs": [
        {
          "output_type": "stream",
          "name": "stdout",
          "text": [
            "Epoch 1/10\n",
            "553/553 [==============================] - 608s 1s/step - loss: 0.4875 - acc: 0.7306 - val_loss: 0.2293 - val_acc: 0.9280\n",
            "Epoch 2/10\n",
            "553/553 [==============================] - 29s 52ms/step - loss: 0.1689 - acc: 0.9409 - val_loss: 0.2168 - val_acc: 0.9640\n",
            "Epoch 3/10\n",
            "553/553 [==============================] - 28s 50ms/step - loss: 0.1578 - acc: 0.9409 - val_loss: 0.0490 - val_acc: 0.9920\n",
            "Epoch 4/10\n",
            "553/553 [==============================] - 28s 51ms/step - loss: 0.1151 - acc: 0.9536 - val_loss: 0.0508 - val_acc: 0.9860\n",
            "Epoch 5/10\n",
            "553/553 [==============================] - 26s 47ms/step - loss: 0.0926 - acc: 0.9578 - val_loss: 0.0371 - val_acc: 0.9920\n",
            "Epoch 6/10\n",
            "553/553 [==============================] - 26s 48ms/step - loss: 0.0832 - acc: 0.9681 - val_loss: 0.0081 - val_acc: 0.9980\n",
            "Epoch 7/10\n",
            "553/553 [==============================] - 28s 51ms/step - loss: 0.0649 - acc: 0.9735 - val_loss: 0.0190 - val_acc: 0.9920\n",
            "Epoch 8/10\n",
            "553/553 [==============================] - 28s 51ms/step - loss: 0.0653 - acc: 0.9765 - val_loss: 0.0471 - val_acc: 0.9900\n",
            "Epoch 9/10\n",
            "553/553 [==============================] - 29s 52ms/step - loss: 0.0439 - acc: 0.9849 - val_loss: 0.0081 - val_acc: 0.9980\n",
            "Epoch 10/10\n",
            "553/553 [==============================] - 28s 50ms/step - loss: 0.0648 - acc: 0.9765 - val_loss: 0.0114 - val_acc: 0.9980\n"
          ]
        },
        {
          "output_type": "execute_result",
          "data": {
            "text/plain": [
              "<keras.src.callbacks.History at 0x7aadb4404520>"
            ]
          },
          "metadata": {},
          "execution_count": 10
        }
      ]
    },
    {
      "cell_type": "code",
      "source": [
        "model.save('signature.h5')"
      ],
      "metadata": {
        "colab": {
          "base_uri": "https://localhost:8080/"
        },
        "id": "lEEnZExl7w01",
        "outputId": "1dbaaedc-fef8-43b1-9977-30c66d3d07aa"
      },
      "execution_count": null,
      "outputs": [
        {
          "output_type": "stream",
          "name": "stderr",
          "text": [
            "/usr/local/lib/python3.10/dist-packages/keras/src/engine/training.py:3103: UserWarning: You are saving your model as an HDF5 file via `model.save()`. This file format is considered legacy. We recommend using instead the native Keras format, e.g. `model.save('my_model.keras')`.\n",
            "  saving_api.save_model(\n"
          ]
        }
      ]
    },
    {
      "cell_type": "code",
      "source": [
        "plt.imshow(val_ds[0][0][0])"
      ],
      "metadata": {
        "colab": {
          "base_uri": "https://localhost:8080/",
          "height": 450
        },
        "id": "hetnE1G3Ae1f",
        "outputId": "23569a6c-b7e2-426c-9055-4715a1b8a3fe"
      },
      "execution_count": null,
      "outputs": [
        {
          "output_type": "execute_result",
          "data": {
            "text/plain": [
              "<matplotlib.image.AxesImage at 0x7aada7463e50>"
            ]
          },
          "metadata": {},
          "execution_count": 24
        },
        {
          "output_type": "display_data",
          "data": {
            "text/plain": [
              "<Figure size 640x480 with 1 Axes>"
            ],
            "image/png": "[encoded data removed]"
          },
          "metadata": {}
        }
      ]
    },
    {
      "cell_type": "code",
      "source": [],
      "metadata": {
        "id": "J0uigE7jByBD"
      },
      "execution_count": null,
      "outputs": []
    },
    {
      "cell_type": "code",
      "source": [
        "pred=model.predict(val_ds)"
      ],
      "metadata": {
        "colab": {
          "base_uri": "https://localhost:8080/"
        },
        "id": "w5g-__aeAXxv",
        "outputId": "0cf63710-6ed9-4575-a352-f4e584e0741f"
      },
      "execution_count": null,
      "outputs": [
        {
          "output_type": "stream",
          "name": "stdout",
          "text": [
            "167/167 [==============================] - 5s 31ms/step\n"
          ]
        }
      ]
    },
    {
      "cell_type": "code",
      "source": [
        "val_ds.class_indices"
      ],
      "metadata": {
        "colab": {
          "base_uri": "https://localhost:8080/"
        },
        "id": "DH87jxOhCLfq",
        "outputId": "ac2a0a5c-627b-4fbe-df31-f8d3aae42911"
      },
      "execution_count": null,
      "outputs": [
        {
          "output_type": "execute_result",
          "data": {
            "text/plain": [
              "{'Fake': 0, 'Real': 1}"
            ]
          },
          "metadata": {},
          "execution_count": 28
        }
      ]
    },
    {
      "cell_type": "code",
      "source": [
        "val_ds.classes"
      ],
      "metadata": {
        "colab": {
          "base_uri": "https://localhost:8080/"
        },
        "id": "eCJHYZU_CPo6",
        "outputId": "31ec3058-548c-4e8d-f47d-57716a0f0df1"
      },
      "execution_count": null,
      "outputs": [
        {
          "output_type": "execute_result",
          "data": {
            "text/plain": [
              "array([0, 0, 0, 0, 0, 0, 0, 0, 0, 0, 0, 0, 0, 0, 0, 0, 0, 0, 0, 0, 0, 0,\n",
              "       0, 0, 0, 0, 0, 0, 0, 0, 0, 0, 0, 0, 0, 0, 0, 0, 0, 0, 0, 0, 0, 0,\n",
              "       0, 0, 0, 0, 0, 0, 0, 0, 0, 0, 0, 0, 0, 0, 0, 0, 0, 0, 0, 0, 0, 0,\n",
              "       0, 0, 0, 0, 0, 0, 0, 0, 0, 0, 0, 0, 0, 0, 0, 0, 0, 0, 0, 0, 0, 0,\n",
              "       0, 0, 0, 0, 0, 0, 0, 0, 0, 0, 0, 0, 0, 0, 0, 0, 0, 0, 0, 0, 0, 0,\n",
              "       0, 0, 0, 0, 0, 0, 0, 0, 0, 0, 0, 0, 0, 0, 0, 0, 0, 0, 0, 0, 0, 0,\n",
              "       0, 0, 0, 0, 0, 0, 0, 0, 0, 0, 0, 0, 0, 0, 0, 0, 0, 0, 0, 0, 0, 0,\n",
              "       0, 0, 0, 0, 0, 0, 0, 0, 0, 0, 0, 0, 0, 0, 0, 0, 0, 0, 0, 0, 0, 0,\n",
              "       0, 0, 0, 0, 0, 0, 0, 0, 0, 0, 0, 0, 0, 0, 0, 0, 0, 0, 0, 0, 0, 0,\n",
              "       0, 0, 0, 0, 0, 0, 0, 0, 0, 0, 0, 0, 0, 0, 0, 0, 0, 0, 0, 0, 0, 0,\n",
              "       0, 0, 0, 0, 0, 0, 0, 0, 0, 0, 0, 0, 0, 0, 0, 0, 0, 0, 0, 0, 0, 0,\n",
              "       0, 0, 0, 0, 0, 0, 1, 1, 1, 1, 1, 1, 1, 1, 1, 1, 1, 1, 1, 1, 1, 1,\n",
              "       1, 1, 1, 1, 1, 1, 1, 1, 1, 1, 1, 1, 1, 1, 1, 1, 1, 1, 1, 1, 1, 1,\n",
              "       1, 1, 1, 1, 1, 1, 1, 1, 1, 1, 1, 1, 1, 1, 1, 1, 1, 1, 1, 1, 1, 1,\n",
              "       1, 1, 1, 1, 1, 1, 1, 1, 1, 1, 1, 1, 1, 1, 1, 1, 1, 1, 1, 1, 1, 1,\n",
              "       1, 1, 1, 1, 1, 1, 1, 1, 1, 1, 1, 1, 1, 1, 1, 1, 1, 1, 1, 1, 1, 1,\n",
              "       1, 1, 1, 1, 1, 1, 1, 1, 1, 1, 1, 1, 1, 1, 1, 1, 1, 1, 1, 1, 1, 1,\n",
              "       1, 1, 1, 1, 1, 1, 1, 1, 1, 1, 1, 1, 1, 1, 1, 1, 1, 1, 1, 1, 1, 1,\n",
              "       1, 1, 1, 1, 1, 1, 1, 1, 1, 1, 1, 1, 1, 1, 1, 1, 1, 1, 1, 1, 1, 1,\n",
              "       1, 1, 1, 1, 1, 1, 1, 1, 1, 1, 1, 1, 1, 1, 1, 1, 1, 1, 1, 1, 1, 1,\n",
              "       1, 1, 1, 1, 1, 1, 1, 1, 1, 1, 1, 1, 1, 1, 1, 1, 1, 1, 1, 1, 1, 1,\n",
              "       1, 1, 1, 1, 1, 1, 1, 1, 1, 1, 1, 1, 1, 1, 1, 1, 1, 1, 1, 1, 1, 1,\n",
              "       1, 1, 1, 1, 1, 1, 1, 1, 1, 1, 1, 1, 1, 1, 1, 1], dtype=int32)"
            ]
          },
          "metadata": {},
          "execution_count": 29
        }
      ]
    },
    {
      "cell_type": "code",
      "source": [
        "pred"
      ],
      "metadata": {
        "colab": {
          "base_uri": "https://localhost:8080/"
        },
        "id": "TSWYZyMGCDKD",
        "outputId": "7349138e-36e7-41d0-84f3-598918caead9"
      },
      "execution_count": null,
      "outputs": [
        {
          "output_type": "execute_result",
          "data": {
            "text/plain": [
              "array([[9.99551356e-01],\n",
              "       [9.99574661e-01],\n",
              "       [2.04727516e-17],\n",
              "       [9.99527454e-01],\n",
              "       [9.99241054e-01],\n",
              "       [9.99572694e-01],\n",
              "       [4.98456757e-06],\n",
              "       [9.31832008e-03],\n",
              "       [9.99599457e-01],\n",
              "       [9.99594688e-01],\n",
              "       [7.26727583e-03],\n",
              "       [2.64612443e-09],\n",
              "       [2.23021373e-01],\n",
              "       [2.62275137e-07],\n",
              "       [2.38930449e-01],\n",
              "       [9.99598861e-01],\n",
              "       [1.07572541e-05],\n",
              "       [9.99276280e-01],\n",
              "       [5.55748306e-03],\n",
              "       [9.99597728e-01],\n",
              "       [4.41175091e-12],\n",
              "       [2.78368723e-02],\n",
              "       [9.99576509e-01],\n",
              "       [9.95139420e-01],\n",
              "       [9.99630690e-01],\n",
              "       [5.95057870e-09],\n",
              "       [9.99817014e-01],\n",
              "       [4.04436332e-06],\n",
              "       [9.26366920e-05],\n",
              "       [5.79761982e-01],\n",
              "       [2.82218000e-08],\n",
              "       [9.99523044e-01],\n",
              "       [2.58727311e-13],\n",
              "       [5.35283657e-03],\n",
              "       [9.99595642e-01],\n",
              "       [3.83572549e-11],\n",
              "       [9.99600053e-01],\n",
              "       [4.00954299e-03],\n",
              "       [9.99607086e-01],\n",
              "       [7.36765869e-05],\n",
              "       [1.19304821e-01],\n",
              "       [1.04122972e-02],\n",
              "       [1.91945225e-01],\n",
              "       [9.99595582e-01],\n",
              "       [9.99585629e-01],\n",
              "       [9.99607861e-01],\n",
              "       [9.99626219e-01],\n",
              "       [9.99573767e-01],\n",
              "       [9.99592841e-01],\n",
              "       [4.50662077e-13],\n",
              "       [9.99603927e-01],\n",
              "       [1.34519199e-02],\n",
              "       [4.49962972e-05],\n",
              "       [9.99594271e-01],\n",
              "       [4.22668518e-06],\n",
              "       [2.00332556e-06],\n",
              "       [6.60451828e-04],\n",
              "       [8.65374878e-03],\n",
              "       [8.84573848e-04],\n",
              "       [7.41414681e-07],\n",
              "       [3.58340107e-02],\n",
              "       [4.60840829e-06],\n",
              "       [4.76474406e-06],\n",
              "       [9.99640405e-01],\n",
              "       [9.99579012e-01],\n",
              "       [9.99584258e-01],\n",
              "       [9.99476314e-01],\n",
              "       [9.99603868e-01],\n",
              "       [9.99625087e-01],\n",
              "       [1.53361214e-06],\n",
              "       [9.99632776e-01],\n",
              "       [3.40787098e-02],\n",
              "       [1.12962385e-04],\n",
              "       [2.75168754e-02],\n",
              "       [3.21860852e-15],\n",
              "       [9.99601960e-01],\n",
              "       [3.92766157e-03],\n",
              "       [8.05022216e-10],\n",
              "       [9.99679506e-01],\n",
              "       [6.32367447e-09],\n",
              "       [9.99645770e-01],\n",
              "       [9.99408126e-01],\n",
              "       [9.99599278e-01],\n",
              "       [9.99606133e-01],\n",
              "       [9.99595761e-01],\n",
              "       [9.99412239e-01],\n",
              "       [6.55441079e-04],\n",
              "       [1.11142015e-07],\n",
              "       [7.69771237e-13],\n",
              "       [9.99051094e-01],\n",
              "       [9.99557495e-01],\n",
              "       [3.60802733e-06],\n",
              "       [2.07768676e-06],\n",
              "       [9.99553978e-01],\n",
              "       [9.99592364e-01],\n",
              "       [9.99626458e-01],\n",
              "       [9.99600172e-01],\n",
              "       [9.99618053e-01],\n",
              "       [2.09997833e-01],\n",
              "       [1.12041633e-03],\n",
              "       [9.99601185e-01],\n",
              "       [8.90355930e-03],\n",
              "       [9.99605298e-01],\n",
              "       [9.99598086e-01],\n",
              "       [9.99582589e-01],\n",
              "       [9.99609828e-01],\n",
              "       [9.99597132e-01],\n",
              "       [9.99603152e-01],\n",
              "       [3.17839906e-02],\n",
              "       [4.81403584e-10],\n",
              "       [9.98849869e-01],\n",
              "       [9.99583900e-01],\n",
              "       [9.99609292e-01],\n",
              "       [9.99594808e-01],\n",
              "       [9.99625444e-01],\n",
              "       [9.99598026e-01],\n",
              "       [4.40047515e-05],\n",
              "       [9.99599457e-01],\n",
              "       [3.70339043e-02],\n",
              "       [9.99583066e-01],\n",
              "       [9.99584258e-01],\n",
              "       [9.99609292e-01],\n",
              "       [9.99644816e-01],\n",
              "       [9.99596536e-01],\n",
              "       [3.43746653e-09],\n",
              "       [9.99606133e-01],\n",
              "       [9.98108625e-01],\n",
              "       [9.99585927e-01],\n",
              "       [9.99591768e-01],\n",
              "       [4.56297712e-05],\n",
              "       [9.99553144e-01],\n",
              "       [1.14185578e-10],\n",
              "       [9.99601126e-01],\n",
              "       [2.02613715e-02],\n",
              "       [3.21734689e-07],\n",
              "       [9.99156952e-01],\n",
              "       [9.99645174e-01],\n",
              "       [9.99580503e-01],\n",
              "       [5.23347444e-06],\n",
              "       [3.02697062e-01],\n",
              "       [9.99613822e-01],\n",
              "       [9.99408126e-01],\n",
              "       [9.99606431e-01],\n",
              "       [1.71637931e-03],\n",
              "       [9.99562860e-01],\n",
              "       [1.88039285e-05],\n",
              "       [9.99607265e-01],\n",
              "       [9.99388814e-01],\n",
              "       [2.60471211e-06],\n",
              "       [2.10467819e-02],\n",
              "       [9.99085486e-01],\n",
              "       [1.72518467e-05],\n",
              "       [1.40674672e-08],\n",
              "       [9.99602318e-01],\n",
              "       [9.99602497e-01],\n",
              "       [9.99587119e-01],\n",
              "       [3.44882460e-06],\n",
              "       [8.92357081e-02],\n",
              "       [1.19755938e-09],\n",
              "       [2.13842142e-07],\n",
              "       [9.99601543e-01],\n",
              "       [2.16996353e-02],\n",
              "       [9.99607801e-01],\n",
              "       [9.99601185e-01],\n",
              "       [9.99579310e-01],\n",
              "       [9.53294220e-05],\n",
              "       [9.99549508e-01],\n",
              "       [9.91916120e-01],\n",
              "       [9.99620616e-01],\n",
              "       [9.99538898e-01],\n",
              "       [9.99498665e-01],\n",
              "       [1.26434765e-11],\n",
              "       [2.21810871e-04],\n",
              "       [6.31828811e-08],\n",
              "       [9.99596357e-01],\n",
              "       [9.99585748e-01],\n",
              "       [2.58191949e-06],\n",
              "       [9.94053483e-01],\n",
              "       [3.89961421e-01],\n",
              "       [9.99594808e-01],\n",
              "       [4.50518802e-02],\n",
              "       [9.98236775e-01],\n",
              "       [9.99640763e-01],\n",
              "       [9.99582350e-01],\n",
              "       [1.25465367e-03],\n",
              "       [3.36512758e-24],\n",
              "       [1.39468850e-03],\n",
              "       [9.98790443e-01],\n",
              "       [1.15197315e-06],\n",
              "       [1.35344235e-04],\n",
              "       [9.98635292e-01],\n",
              "       [9.99139726e-01],\n",
              "       [3.64784590e-21],\n",
              "       [1.11115850e-09],\n",
              "       [5.11617637e-09],\n",
              "       [1.85970461e-03],\n",
              "       [1.01063979e-05],\n",
              "       [1.78906930e-07],\n",
              "       [1.67619723e-14],\n",
              "       [4.02675653e-08],\n",
              "       [7.66138708e-09],\n",
              "       [9.99547958e-01],\n",
              "       [9.99659359e-01],\n",
              "       [9.99471903e-01],\n",
              "       [9.99611557e-01],\n",
              "       [9.99596775e-01],\n",
              "       [2.08077449e-08],\n",
              "       [9.99583960e-01],\n",
              "       [9.96928975e-07],\n",
              "       [6.83660628e-10],\n",
              "       [2.79532932e-03],\n",
              "       [9.99614060e-01],\n",
              "       [9.99605417e-01],\n",
              "       [9.99636590e-01],\n",
              "       [9.99592483e-01],\n",
              "       [1.31586775e-01],\n",
              "       [9.99588072e-01],\n",
              "       [9.99441385e-01],\n",
              "       [4.74056089e-03],\n",
              "       [1.29731670e-01],\n",
              "       [1.83650819e-08],\n",
              "       [7.55276415e-04],\n",
              "       [9.99604821e-01],\n",
              "       [2.54770675e-05],\n",
              "       [1.39882221e-04],\n",
              "       [9.99575973e-01],\n",
              "       [9.99578714e-01],\n",
              "       [6.80904350e-06],\n",
              "       [1.30064526e-09],\n",
              "       [9.99546230e-01],\n",
              "       [9.99611259e-01],\n",
              "       [9.87413276e-12],\n",
              "       [9.99429166e-01],\n",
              "       [9.99599993e-01],\n",
              "       [1.93291679e-01],\n",
              "       [9.99623418e-01],\n",
              "       [9.99586225e-01],\n",
              "       [1.01016376e-05],\n",
              "       [9.97990549e-01],\n",
              "       [9.99588072e-01],\n",
              "       [9.99654591e-01],\n",
              "       [2.30289697e-06],\n",
              "       [2.27108854e-03],\n",
              "       [9.99592602e-01],\n",
              "       [9.99609649e-01],\n",
              "       [9.99605954e-01],\n",
              "       [1.12561249e-09],\n",
              "       [9.99582946e-01],\n",
              "       [8.14038322e-06],\n",
              "       [7.28839450e-03],\n",
              "       [9.99603271e-01],\n",
              "       [1.05820363e-04],\n",
              "       [2.06046663e-02],\n",
              "       [9.99593079e-01],\n",
              "       [9.99454021e-01],\n",
              "       [5.63980266e-02],\n",
              "       [9.99616325e-01],\n",
              "       [1.10301141e-06],\n",
              "       [2.40477198e-03],\n",
              "       [2.12096566e-04],\n",
              "       [1.21047573e-11],\n",
              "       [9.99606371e-01],\n",
              "       [9.99663711e-01],\n",
              "       [1.06782146e-07],\n",
              "       [4.81375646e-05],\n",
              "       [9.99605417e-01],\n",
              "       [7.25764839e-05],\n",
              "       [9.99409616e-01],\n",
              "       [9.60553229e-01],\n",
              "       [9.99474585e-01],\n",
              "       [6.68208289e-04],\n",
              "       [9.99568284e-01],\n",
              "       [9.99597847e-01],\n",
              "       [9.99572158e-01],\n",
              "       [1.07702377e-04],\n",
              "       [4.56882753e-15],\n",
              "       [9.36869183e-05],\n",
              "       [9.99599457e-01],\n",
              "       [9.99598682e-01],\n",
              "       [9.99596000e-01],\n",
              "       [9.99608755e-01],\n",
              "       [4.84220573e-06],\n",
              "       [1.38382957e-05],\n",
              "       [6.85850543e-11],\n",
              "       [9.99592781e-01],\n",
              "       [1.67040798e-10],\n",
              "       [9.99368489e-01],\n",
              "       [9.99599040e-01],\n",
              "       [1.77682770e-04],\n",
              "       [9.99608219e-01],\n",
              "       [9.99537349e-01],\n",
              "       [9.99620080e-01],\n",
              "       [9.99594331e-01],\n",
              "       [9.99591649e-01],\n",
              "       [2.73554865e-03],\n",
              "       [9.99612749e-01],\n",
              "       [8.92360928e-04],\n",
              "       [2.39333895e-05],\n",
              "       [9.98907030e-01],\n",
              "       [9.99483109e-01],\n",
              "       [9.99613225e-01],\n",
              "       [9.99415338e-01],\n",
              "       [3.89689279e-12],\n",
              "       [9.99572158e-01],\n",
              "       [9.99569416e-01],\n",
              "       [9.99589145e-01],\n",
              "       [7.03183115e-02],\n",
              "       [7.43010844e-08],\n",
              "       [9.99611199e-01],\n",
              "       [9.99608994e-01],\n",
              "       [6.35640561e-14],\n",
              "       [1.66194588e-02],\n",
              "       [9.99583662e-01],\n",
              "       [3.34830105e-01],\n",
              "       [9.99601185e-01],\n",
              "       [9.99495804e-01],\n",
              "       [9.99595642e-01],\n",
              "       [9.99511480e-01],\n",
              "       [9.99744952e-01],\n",
              "       [2.86587493e-07],\n",
              "       [9.47791037e-08],\n",
              "       [9.99619603e-01],\n",
              "       [9.99363124e-01],\n",
              "       [9.99468267e-01],\n",
              "       [5.06678945e-04],\n",
              "       [6.25120956e-05],\n",
              "       [1.62958955e-07],\n",
              "       [4.35622467e-04],\n",
              "       [4.54160152e-03],\n",
              "       [1.10750727e-03],\n",
              "       [8.49275209e-04],\n",
              "       [9.99595881e-01],\n",
              "       [9.99585807e-01],\n",
              "       [9.99630034e-01],\n",
              "       [9.99614358e-01],\n",
              "       [9.99603450e-01],\n",
              "       [3.73394638e-02],\n",
              "       [7.75030479e-02],\n",
              "       [7.36234337e-03],\n",
              "       [7.09310058e-04],\n",
              "       [9.99596834e-01],\n",
              "       [9.99586701e-01],\n",
              "       [9.99577105e-01],\n",
              "       [6.56461902e-03],\n",
              "       [6.52921037e-04],\n",
              "       [9.99634922e-01],\n",
              "       [9.99610126e-01],\n",
              "       [1.85668599e-02],\n",
              "       [4.04543523e-03],\n",
              "       [9.99622941e-01],\n",
              "       [9.99588609e-01],\n",
              "       [3.48918205e-09],\n",
              "       [2.49161394e-06],\n",
              "       [4.62082212e-08],\n",
              "       [2.13445055e-05],\n",
              "       [4.39566706e-04],\n",
              "       [2.37120894e-05],\n",
              "       [9.99515593e-01],\n",
              "       [6.51224909e-05],\n",
              "       [4.52285150e-07],\n",
              "       [1.30290736e-03],\n",
              "       [2.55118964e-11],\n",
              "       [9.99551058e-01],\n",
              "       [9.99601364e-01],\n",
              "       [8.92112255e-02],\n",
              "       [9.99541461e-01],\n",
              "       [1.21214380e-03],\n",
              "       [9.99480486e-01],\n",
              "       [2.32747253e-02],\n",
              "       [1.07047701e-04],\n",
              "       [9.99604642e-01],\n",
              "       [9.99602795e-01],\n",
              "       [5.18974011e-05],\n",
              "       [2.70265635e-13],\n",
              "       [9.99559462e-01],\n",
              "       [3.93347299e-10],\n",
              "       [9.99568760e-01],\n",
              "       [9.99422550e-01],\n",
              "       [9.99599338e-01],\n",
              "       [7.17195235e-06],\n",
              "       [2.65157461e-04],\n",
              "       [8.32949966e-17],\n",
              "       [6.13752218e-06],\n",
              "       [9.99609590e-01],\n",
              "       [9.92440255e-06],\n",
              "       [5.48688753e-13],\n",
              "       [9.99591172e-01],\n",
              "       [9.99592364e-01],\n",
              "       [9.99569058e-01],\n",
              "       [9.99532819e-01],\n",
              "       [1.76269517e-04],\n",
              "       [1.32211298e-07],\n",
              "       [5.63284872e-14],\n",
              "       [4.75693165e-11],\n",
              "       [1.51592857e-07],\n",
              "       [9.99486029e-01],\n",
              "       [3.36996459e-06],\n",
              "       [9.99586582e-01],\n",
              "       [3.04184295e-02],\n",
              "       [4.27494399e-07],\n",
              "       [2.77009998e-10],\n",
              "       [2.22180739e-01],\n",
              "       [1.22399171e-04],\n",
              "       [9.99615252e-01],\n",
              "       [1.19709832e-04],\n",
              "       [9.67648531e-12],\n",
              "       [9.99605596e-01],\n",
              "       [9.99627769e-01],\n",
              "       [1.47595629e-01],\n",
              "       [9.99547362e-01],\n",
              "       [9.99599159e-01],\n",
              "       [3.69640358e-04],\n",
              "       [9.99545932e-01],\n",
              "       [9.99557555e-01],\n",
              "       [3.61518171e-09],\n",
              "       [2.75567652e-10],\n",
              "       [9.99421775e-01],\n",
              "       [1.54189361e-09],\n",
              "       [1.06685707e-06],\n",
              "       [7.25085149e-04],\n",
              "       [3.13154538e-04],\n",
              "       [6.38162717e-04],\n",
              "       [9.99578118e-01],\n",
              "       [9.99634743e-01],\n",
              "       [4.41604101e-07],\n",
              "       [9.99612749e-01],\n",
              "       [5.37441701e-05],\n",
              "       [2.99647731e-14],\n",
              "       [2.43116822e-03],\n",
              "       [1.66481084e-04],\n",
              "       [9.99596775e-01],\n",
              "       [9.99605179e-01],\n",
              "       [9.99582112e-01],\n",
              "       [9.99369323e-01],\n",
              "       [9.99548137e-01],\n",
              "       [9.99447107e-01],\n",
              "       [2.28922535e-03],\n",
              "       [8.70741846e-04],\n",
              "       [9.99497116e-01],\n",
              "       [9.99604523e-01],\n",
              "       [9.99396801e-01],\n",
              "       [6.65159860e-06],\n",
              "       [1.26032802e-07],\n",
              "       [9.86704409e-01],\n",
              "       [2.49299016e-02],\n",
              "       [5.64843765e-04],\n",
              "       [9.99499381e-01],\n",
              "       [3.30272172e-07],\n",
              "       [1.78419928e-08],\n",
              "       [8.30952374e-09],\n",
              "       [9.99588013e-01],\n",
              "       [1.00674106e-05],\n",
              "       [9.97829020e-01],\n",
              "       [2.02291979e-08],\n",
              "       [2.10064056e-04],\n",
              "       [9.99618828e-01],\n",
              "       [9.99596894e-01],\n",
              "       [1.44024185e-11],\n",
              "       [8.79457861e-04],\n",
              "       [1.59880358e-07],\n",
              "       [9.99548137e-01],\n",
              "       [9.99373496e-01],\n",
              "       [2.27042153e-01],\n",
              "       [2.20828446e-25],\n",
              "       [9.44177514e-11],\n",
              "       [3.10685891e-06],\n",
              "       [4.77447384e-06],\n",
              "       [4.92186132e-08],\n",
              "       [9.96353507e-01],\n",
              "       [1.19982315e-06],\n",
              "       [5.34191402e-09],\n",
              "       [9.99421477e-01],\n",
              "       [3.67974892e-04],\n",
              "       [1.17223557e-04],\n",
              "       [9.99604166e-01],\n",
              "       [9.99576032e-01],\n",
              "       [9.99594808e-01],\n",
              "       [9.99581993e-01],\n",
              "       [9.47250101e-06],\n",
              "       [9.98950601e-01],\n",
              "       [2.32783634e-07],\n",
              "       [3.81856296e-07],\n",
              "       [9.99074340e-01],\n",
              "       [3.60684680e-07],\n",
              "       [9.99597728e-01],\n",
              "       [4.71935887e-03],\n",
              "       [9.99097943e-01],\n",
              "       [9.99587774e-01],\n",
              "       [9.99619365e-01],\n",
              "       [8.11314061e-02],\n",
              "       [9.98979986e-01],\n",
              "       [4.14651959e-06],\n",
              "       [1.22757541e-07],\n",
              "       [8.53825853e-13],\n",
              "       [3.98129021e-04],\n",
              "       [1.22349430e-03],\n",
              "       [9.99027014e-01],\n",
              "       [9.99604046e-01],\n",
              "       [9.99458909e-01],\n",
              "       [9.99568343e-01]], dtype=float32)"
            ]
          },
          "metadata": {},
          "execution_count": 27
        }
      ]
    }
  ]
}